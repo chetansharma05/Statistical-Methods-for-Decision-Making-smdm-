{
 "cells": [
  {
   "cell_type": "markdown",
   "id": "79afe492",
   "metadata": {},
   "source": [
    "# problem 1"
   ]
  },
  {
   "cell_type": "code",
   "execution_count": 1,
   "id": "f113a1d4",
   "metadata": {},
   "outputs": [],
   "source": [
    "import pandas as pd \n",
    "import numpy as np \n",
    "import matplotlib.pyplot as plt\n",
    "import seaborn as sns\n",
    "import statistics"
   ]
  },
  {
   "cell_type": "code",
   "execution_count": 2,
   "id": "7ead6c83",
   "metadata": {},
   "outputs": [],
   "source": [
    "data = pd.read_csv(\"Cold_Storage_Temp_Data_-1.csv\")"
   ]
  },
  {
   "cell_type": "code",
   "execution_count": 4,
   "id": "4ed719b0",
   "metadata": {},
   "outputs": [
    {
     "data": {
      "text/plain": [
       "(365, 4)"
      ]
     },
     "execution_count": 4,
     "metadata": {},
     "output_type": "execute_result"
    }
   ],
   "source": [
    "data.shape"
   ]
  },
  {
   "cell_type": "code",
   "execution_count": 3,
   "id": "c5dedf4e",
   "metadata": {},
   "outputs": [
    {
     "data": {
      "text/html": [
       "<div>\n",
       "<style scoped>\n",
       "    .dataframe tbody tr th:only-of-type {\n",
       "        vertical-align: middle;\n",
       "    }\n",
       "\n",
       "    .dataframe tbody tr th {\n",
       "        vertical-align: top;\n",
       "    }\n",
       "\n",
       "    .dataframe thead th {\n",
       "        text-align: right;\n",
       "    }\n",
       "</style>\n",
       "<table border=\"1\" class=\"dataframe\">\n",
       "  <thead>\n",
       "    <tr style=\"text-align: right;\">\n",
       "      <th></th>\n",
       "      <th>Season</th>\n",
       "      <th>Month</th>\n",
       "      <th>Date</th>\n",
       "      <th>Temperature</th>\n",
       "    </tr>\n",
       "  </thead>\n",
       "  <tbody>\n",
       "    <tr>\n",
       "      <th>0</th>\n",
       "      <td>Winter</td>\n",
       "      <td>Jan</td>\n",
       "      <td>1</td>\n",
       "      <td>2.3</td>\n",
       "    </tr>\n",
       "    <tr>\n",
       "      <th>1</th>\n",
       "      <td>Winter</td>\n",
       "      <td>Jan</td>\n",
       "      <td>2</td>\n",
       "      <td>2.2</td>\n",
       "    </tr>\n",
       "    <tr>\n",
       "      <th>2</th>\n",
       "      <td>Winter</td>\n",
       "      <td>Jan</td>\n",
       "      <td>3</td>\n",
       "      <td>2.4</td>\n",
       "    </tr>\n",
       "    <tr>\n",
       "      <th>3</th>\n",
       "      <td>Winter</td>\n",
       "      <td>Jan</td>\n",
       "      <td>4</td>\n",
       "      <td>2.8</td>\n",
       "    </tr>\n",
       "    <tr>\n",
       "      <th>4</th>\n",
       "      <td>Winter</td>\n",
       "      <td>Jan</td>\n",
       "      <td>5</td>\n",
       "      <td>2.5</td>\n",
       "    </tr>\n",
       "  </tbody>\n",
       "</table>\n",
       "</div>"
      ],
      "text/plain": [
       "   Season Month  Date  Temperature\n",
       "0  Winter   Jan     1          2.3\n",
       "1  Winter   Jan     2          2.2\n",
       "2  Winter   Jan     3          2.4\n",
       "3  Winter   Jan     4          2.8\n",
       "4  Winter   Jan     5          2.5"
      ]
     },
     "execution_count": 3,
     "metadata": {},
     "output_type": "execute_result"
    }
   ],
   "source": [
    "data.head()"
   ]
  },
  {
   "cell_type": "markdown",
   "id": "682c9852",
   "metadata": {},
   "source": [
    "# Find mean cold storage temperature for Summer, Winter, and Rainy Season. ("
   ]
  },
  {
   "cell_type": "code",
   "execution_count": 137,
   "id": "b5be3bab",
   "metadata": {},
   "outputs": [
    {
     "data": {
      "text/plain": [
       "Winter    123\n",
       "Rainy     122\n",
       "Summer    120\n",
       "Name: Season, dtype: int64"
      ]
     },
     "execution_count": 137,
     "metadata": {},
     "output_type": "execute_result"
    }
   ],
   "source": [
    "data[\"Season\"].value_counts()"
   ]
  },
  {
   "cell_type": "code",
   "execution_count": 138,
   "id": "a132c8df",
   "metadata": {},
   "outputs": [
    {
     "data": {
      "text/html": [
       "<div>\n",
       "<style scoped>\n",
       "    .dataframe tbody tr th:only-of-type {\n",
       "        vertical-align: middle;\n",
       "    }\n",
       "\n",
       "    .dataframe tbody tr th {\n",
       "        vertical-align: top;\n",
       "    }\n",
       "\n",
       "    .dataframe thead th {\n",
       "        text-align: right;\n",
       "    }\n",
       "</style>\n",
       "<table border=\"1\" class=\"dataframe\">\n",
       "  <thead>\n",
       "    <tr style=\"text-align: right;\">\n",
       "      <th></th>\n",
       "      <th>Date</th>\n",
       "      <th>Temperature</th>\n",
       "    </tr>\n",
       "    <tr>\n",
       "      <th>Season</th>\n",
       "      <th></th>\n",
       "      <th></th>\n",
       "    </tr>\n",
       "  </thead>\n",
       "  <tbody>\n",
       "    <tr>\n",
       "      <th>Rainy</th>\n",
       "      <td>15.754098</td>\n",
       "      <td>3.087705</td>\n",
       "    </tr>\n",
       "    <tr>\n",
       "      <th>Summer</th>\n",
       "      <td>15.525000</td>\n",
       "      <td>3.147500</td>\n",
       "    </tr>\n",
       "    <tr>\n",
       "      <th>Winter</th>\n",
       "      <td>15.878049</td>\n",
       "      <td>2.776423</td>\n",
       "    </tr>\n",
       "  </tbody>\n",
       "</table>\n",
       "</div>"
      ],
      "text/plain": [
       "             Date  Temperature\n",
       "Season                        \n",
       "Rainy   15.754098     3.087705\n",
       "Summer  15.525000     3.147500\n",
       "Winter  15.878049     2.776423"
      ]
     },
     "execution_count": 138,
     "metadata": {},
     "output_type": "execute_result"
    }
   ],
   "source": [
    "data.groupby(data[\"Season\"]).mean()"
   ]
  },
  {
   "cell_type": "markdown",
   "id": "e83d17bf",
   "metadata": {},
   "source": [
    "# Find the overall mean for the full year."
   ]
  },
  {
   "cell_type": "code",
   "execution_count": 139,
   "id": "193aa3c4",
   "metadata": {},
   "outputs": [
    {
     "data": {
      "text/html": [
       "<div>\n",
       "<style scoped>\n",
       "    .dataframe tbody tr th:only-of-type {\n",
       "        vertical-align: middle;\n",
       "    }\n",
       "\n",
       "    .dataframe tbody tr th {\n",
       "        vertical-align: top;\n",
       "    }\n",
       "\n",
       "    .dataframe thead th {\n",
       "        text-align: right;\n",
       "    }\n",
       "</style>\n",
       "<table border=\"1\" class=\"dataframe\">\n",
       "  <thead>\n",
       "    <tr style=\"text-align: right;\">\n",
       "      <th></th>\n",
       "      <th>Date</th>\n",
       "      <th>Temperature</th>\n",
       "    </tr>\n",
       "  </thead>\n",
       "  <tbody>\n",
       "    <tr>\n",
       "      <th>count</th>\n",
       "      <td>365.000000</td>\n",
       "      <td>365.000000</td>\n",
       "    </tr>\n",
       "    <tr>\n",
       "      <th>mean</th>\n",
       "      <td>15.720548</td>\n",
       "      <td>3.002466</td>\n",
       "    </tr>\n",
       "    <tr>\n",
       "      <th>std</th>\n",
       "      <td>8.808321</td>\n",
       "      <td>0.465832</td>\n",
       "    </tr>\n",
       "    <tr>\n",
       "      <th>min</th>\n",
       "      <td>1.000000</td>\n",
       "      <td>1.700000</td>\n",
       "    </tr>\n",
       "    <tr>\n",
       "      <th>25%</th>\n",
       "      <td>8.000000</td>\n",
       "      <td>2.700000</td>\n",
       "    </tr>\n",
       "    <tr>\n",
       "      <th>50%</th>\n",
       "      <td>16.000000</td>\n",
       "      <td>3.000000</td>\n",
       "    </tr>\n",
       "    <tr>\n",
       "      <th>75%</th>\n",
       "      <td>23.000000</td>\n",
       "      <td>3.300000</td>\n",
       "    </tr>\n",
       "    <tr>\n",
       "      <th>max</th>\n",
       "      <td>31.000000</td>\n",
       "      <td>4.500000</td>\n",
       "    </tr>\n",
       "  </tbody>\n",
       "</table>\n",
       "</div>"
      ],
      "text/plain": [
       "             Date  Temperature\n",
       "count  365.000000   365.000000\n",
       "mean    15.720548     3.002466\n",
       "std      8.808321     0.465832\n",
       "min      1.000000     1.700000\n",
       "25%      8.000000     2.700000\n",
       "50%     16.000000     3.000000\n",
       "75%     23.000000     3.300000\n",
       "max     31.000000     4.500000"
      ]
     },
     "execution_count": 139,
     "metadata": {},
     "output_type": "execute_result"
    }
   ],
   "source": [
    "data.describe()"
   ]
  },
  {
   "cell_type": "markdown",
   "id": "76b0c30d",
   "metadata": {},
   "source": [
    "# overall mean is 3.002466\n",
    "# sd is .465832"
   ]
  },
  {
   "cell_type": "markdown",
   "id": "a291c730",
   "metadata": {},
   "source": [
    "# Q3 Assume Normal distribution, what is the probability of temperature having fallen below 2º C?"
   ]
  },
  {
   "cell_type": "code",
   "execution_count": 142,
   "id": "95af92b0",
   "metadata": {},
   "outputs": [
    {
     "name": "stderr",
     "output_type": "stream",
     "text": [
      "c:\\users\\user\\appdata\\local\\programs\\python\\python39\\lib\\site-packages\\seaborn\\distributions.py:2619: FutureWarning: `distplot` is a deprecated function and will be removed in a future version. Please adapt your code to use either `displot` (a figure-level function with similar flexibility) or `histplot` (an axes-level function for histograms).\n",
      "  warnings.warn(msg, FutureWarning)\n"
     ]
    },
    {
     "data": {
      "text/plain": [
       "<AxesSubplot:xlabel='Temperature', ylabel='Density'>"
      ]
     },
     "execution_count": 142,
     "metadata": {},
     "output_type": "execute_result"
    },
    {
     "data": {
      "image/png": "[encoded data removed]",
      "text/plain": [
       "<Figure size 432x288 with 1 Axes>"
      ]
     },
     "metadata": {
      "needs_background": "light"
     },
     "output_type": "display_data"
    }
   ],
   "source": [
    "sns.distplot(data[\"Temperature\"])"
   ]
  },
  {
   "cell_type": "code",
   "execution_count": 141,
   "id": "81fd78d0",
   "metadata": {},
   "outputs": [],
   "source": [
    "dt =data[\"Temperature\"]>2 "
   ]
  },
  {
   "cell_type": "code",
   "execution_count": 119,
   "id": "9bc0270b",
   "metadata": {},
   "outputs": [
    {
     "data": {
      "text/plain": [
       "True     360\n",
       "False      5\n",
       "Name: Temperature, dtype: int64"
      ]
     },
     "execution_count": 119,
     "metadata": {},
     "output_type": "execute_result"
    }
   ],
   "source": [
    "dt.value_counts()"
   ]
  },
  {
   "cell_type": "code",
   "execution_count": 143,
   "id": "b5242c53",
   "metadata": {},
   "outputs": [
    {
     "name": "stdout",
     "output_type": "stream",
     "text": [
      "0.0136986301369863\n"
     ]
    }
   ],
   "source": [
    "prob_less_two = 5/365\n",
    "print(prob_less_two)"
   ]
  },
  {
   "cell_type": "markdown",
   "id": "1fd7bae8",
   "metadata": {},
   "source": [
    "# Q-5 Assume Normal distribution, what is the probability of temperature having gone above 4º C?"
   ]
  },
  {
   "cell_type": "code",
   "execution_count": 144,
   "id": "72d385db",
   "metadata": {},
   "outputs": [],
   "source": [
    "db =data[\"Temperature\"]>4 "
   ]
  },
  {
   "cell_type": "code",
   "execution_count": 145,
   "id": "9a33cd8a",
   "metadata": {},
   "outputs": [
    {
     "data": {
      "text/plain": [
       "False    358\n",
       "True       7\n",
       "Name: Temperature, dtype: int64"
      ]
     },
     "execution_count": 145,
     "metadata": {},
     "output_type": "execute_result"
    }
   ],
   "source": [
    "db.value_counts()"
   ]
  },
  {
   "cell_type": "code",
   "execution_count": 131,
   "id": "bbc8241d",
   "metadata": {},
   "outputs": [],
   "source": [
    "prob_more_four = 7/365"
   ]
  },
  {
   "cell_type": "code",
   "execution_count": 132,
   "id": "0e92a14e",
   "metadata": {},
   "outputs": [
    {
     "name": "stdout",
     "output_type": "stream",
     "text": [
      "0.019178082191780823\n"
     ]
    }
   ],
   "source": [
    "print(prob_more_four)"
   ]
  },
  {
   "cell_type": "markdown",
   "id": "8af30f28",
   "metadata": {},
   "source": [
    "# Q6 What will be the penalty for the AMC Company?"
   ]
  },
  {
   "cell_type": "markdown",
   "id": "722ad651",
   "metadata": {},
   "source": [
    " 10 % penelty"
   ]
  },
  {
   "cell_type": "markdown",
   "id": "124d8ca2",
   "metadata": {},
   "source": [
    "# Problem 2"
   ]
  },
  {
   "cell_type": "markdown",
   "id": "cc32e69b",
   "metadata": {},
   "source": [
    "# 1. Which Hypothesis test shall be performed to check if corrective action is needed at the cold storage plant?"
   ]
  },
  {
   "cell_type": "markdown",
   "id": "aef054d9",
   "metadata": {},
   "source": [
    "  The  sample  size  of  the  data  is  small  in  size( total sample 35) In  case  of  usage  of    z  test performance , the results might be unappropiate and  confusing and for such small sample size. It is ideal to use the T test hypothesis testing for specific results and small sample size"
   ]
  },
  {
   "cell_type": "markdown",
   "id": "fa862d9d",
   "metadata": {},
   "source": [
    "# 2. State the Hypothesis and do the necessary calculations to accept or reject the corresponding null\n",
    "hypothesis."
   ]
  },
  {
   "cell_type": "markdown",
   "id": "a436a6e1",
   "metadata": {},
   "source": [
    "HO:MU <=3.9\n",
    "H1:MU >3.9\n",
    "    \n",
    "    "
   ]
  },
  {
   "cell_type": "code",
   "execution_count": 154,
   "id": "9f8030af",
   "metadata": {},
   "outputs": [],
   "source": [
    "dx = pd.read_csv(\"COLD.CSV\")"
   ]
  },
  {
   "cell_type": "code",
   "execution_count": 155,
   "id": "f4e6e24c",
   "metadata": {},
   "outputs": [
    {
     "data": {
      "text/html": [
       "<div>\n",
       "<style scoped>\n",
       "    .dataframe tbody tr th:only-of-type {\n",
       "        vertical-align: middle;\n",
       "    }\n",
       "\n",
       "    .dataframe tbody tr th {\n",
       "        vertical-align: top;\n",
       "    }\n",
       "\n",
       "    .dataframe thead th {\n",
       "        text-align: right;\n",
       "    }\n",
       "</style>\n",
       "<table border=\"1\" class=\"dataframe\">\n",
       "  <thead>\n",
       "    <tr style=\"text-align: right;\">\n",
       "      <th></th>\n",
       "      <th>Date</th>\n",
       "      <th>Temperature</th>\n",
       "      <th>Unnamed: 4</th>\n",
       "    </tr>\n",
       "  </thead>\n",
       "  <tbody>\n",
       "    <tr>\n",
       "      <th>count</th>\n",
       "      <td>35.000000</td>\n",
       "      <td>35.000000</td>\n",
       "      <td>0.0</td>\n",
       "    </tr>\n",
       "    <tr>\n",
       "      <th>mean</th>\n",
       "      <td>14.400000</td>\n",
       "      <td>3.974286</td>\n",
       "      <td>NaN</td>\n",
       "    </tr>\n",
       "    <tr>\n",
       "      <th>std</th>\n",
       "      <td>7.389181</td>\n",
       "      <td>0.159674</td>\n",
       "      <td>NaN</td>\n",
       "    </tr>\n",
       "    <tr>\n",
       "      <th>min</th>\n",
       "      <td>1.000000</td>\n",
       "      <td>3.800000</td>\n",
       "      <td>NaN</td>\n",
       "    </tr>\n",
       "    <tr>\n",
       "      <th>25%</th>\n",
       "      <td>9.500000</td>\n",
       "      <td>3.900000</td>\n",
       "      <td>NaN</td>\n",
       "    </tr>\n",
       "    <tr>\n",
       "      <th>50%</th>\n",
       "      <td>14.000000</td>\n",
       "      <td>3.900000</td>\n",
       "      <td>NaN</td>\n",
       "    </tr>\n",
       "    <tr>\n",
       "      <th>75%</th>\n",
       "      <td>19.500000</td>\n",
       "      <td>4.100000</td>\n",
       "      <td>NaN</td>\n",
       "    </tr>\n",
       "    <tr>\n",
       "      <th>max</th>\n",
       "      <td>28.000000</td>\n",
       "      <td>4.600000</td>\n",
       "      <td>NaN</td>\n",
       "    </tr>\n",
       "  </tbody>\n",
       "</table>\n",
       "</div>"
      ],
      "text/plain": [
       "            Date   Temperature   Unnamed: 4\n",
       "count  35.000000      35.000000         0.0\n",
       "mean   14.400000       3.974286         NaN\n",
       "std     7.389181       0.159674         NaN\n",
       "min     1.000000       3.800000         NaN\n",
       "25%     9.500000       3.900000         NaN\n",
       "50%    14.000000       3.900000         NaN\n",
       "75%    19.500000       4.100000         NaN\n",
       "max    28.000000       4.600000         NaN"
      ]
     },
     "execution_count": 155,
     "metadata": {},
     "output_type": "execute_result"
    }
   ],
   "source": [
    "dx.describe()"
   ]
  },
  {
   "cell_type": "markdown",
   "id": "8f474802",
   "metadata": {},
   "source": [
    "assume mean = 3.9\n",
    "obtain mean = 3.974286\n",
    "std =.45\n",
    "test stats value = .973968\n",
    "p-value = .831524\n"
   ]
  },
  {
   "cell_type": "markdown",
   "id": "615b5819",
   "metadata": {},
   "source": [
    "henace p-value is greater than alpha value(.1). so we dont reject the null hypothesis"
   ]
  },
  {
   "cell_type": "markdown",
   "id": "08aa8021",
   "metadata": {},
   "source": [
    "# 3 Give your inference"
   ]
  },
  {
   "cell_type": "markdown",
   "id": "4f71dc07",
   "metadata": {},
   "source": [
    " Accepting the T test result as proven true in the above instance, which is, the vigilant value of 3.9 degree Celsius to be kept at the Cold Storage Plant is crossed and goes higher than the specifications, in return which is creating adversities like catalyzing of dairy products go sour and smelly; leading to customer complaints. Strictly, some corrective action in the Cold Storage Plant is needed to get the process back in stable, safe and desired state."
   ]
  },
  {
   "cell_type": "code",
   "execution_count": null,
   "id": "c9a49033",
   "metadata": {},
   "outputs": [],
   "source": []
  }
 ],
 "metadata": {
  "kernelspec": {
   "display_name": "Python 3",
   "language": "python",
   "name": "python3"
  },
  "language_info": {
   "codemirror_mode": {
    "name": "ipython",
    "version": 3
   },
   "file_extension": ".py",
   "mimetype": "text/x-python",
   "name": "python",
   "nbconvert_exporter": "python",
   "pygments_lexer": "ipython3",
   "version": "3.9.1"
  }
 },
 "nbformat": 4,
 "nbformat_minor": 5
}
